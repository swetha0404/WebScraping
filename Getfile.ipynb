{
 "cells": [
  {
   "cell_type": "code",
   "execution_count": 7,
   "metadata": {},
   "outputs": [
    {
     "name": "stdout",
     "output_type": "stream",
     "text": [
      "Collecting selenium\n",
      "  Downloading selenium-3.141.0-py2.py3-none-any.whl (904 kB)\n",
      "Requirement already satisfied: urllib3 in c:\\users\\raja\\anaconda3\\lib\\site-packages (from selenium) (1.25.8)\n",
      "Installing collected packages: selenium\n",
      "Successfully installed selenium-3.141.0\n"
     ]
    }
   ],
   "source": [
    "!pip install selenium\n"
   ]
  },
  {
   "cell_type": "code",
   "execution_count": 8,
   "metadata": {},
   "outputs": [
    {
     "data": {
      "text/plain": [
       "'C:\\\\Users\\\\Raja\\\\anaconda3'"
      ]
     },
     "execution_count": 8,
     "metadata": {},
     "output_type": "execute_result"
    }
   ],
   "source": [
    "import os\n",
    "import sys\n",
    "os.path.dirname(sys.executable)"
   ]
  },
  {
   "cell_type": "code",
   "execution_count": 16,
   "metadata": {},
   "outputs": [],
   "source": [
    "from selenium import webdriver\n",
    "# this is tested on Firefox or you can use \"webdriver.Chrome()\"\n",
    "browser = webdriver.Chrome()\n",
    "browser.get('https://www.facebook.com/')\n"
   ]
  },
  {
   "cell_type": "code",
   "execution_count": 65,
   "metadata": {},
   "outputs": [],
   "source": [
    "from selenium import webdriver\n",
    "from selenium.webdriver.support.ui import Select\n",
    "import time\n",
    "web = webdriver.Chrome()\n",
    "web.get('https://suit.cibil.com/')\n",
    "#time.sleep(2)\n",
    "\n",
    "\n",
    "\n",
    "\n",
    "\n",
    "# navigate to the page\n",
    "select = Select(web.find_element_by_id('croreAccount'))\n",
    "#print (select.options)\n",
    "select.select_by_visible_text('Search')\n",
    "\n",
    "#submit=web.find_element_by_xpath('//*[@id=\"loadSuitFiledDataSearchAction\"]/div[1]/div[3]/div[4]')\n",
    "web.find_element_by_xpath('//*[@id=\"loadSuitFiledDataSearchAction\"]/div[1]/div[3]/div[4]').click()\n",
    "#time.sleep(2)\n",
    "\n",
    "#Select Bank\n",
    "select = Select(web.find_element_by_id('bankId'))\n",
    "select.select_by_visible_text('DCB Bank Ltd')\n",
    "\n",
    "#Select City\n",
    "time.sleep(2)\n",
    "Mycity=web.find_element_by_xpath('//*[@id=\"city\"]')\n",
    "city=\"Chennai\"\n",
    "Mycity.send_keys(city)\n",
    "\n",
    "\n",
    "web.find_element_by_xpath('//*[@id=\"search-button\"]/ul/li[1]/div/input').click()\n",
    "\n",
    "#Download eXcel\n",
    "web.find_element_by_xpath('//*[@id=\"downloadReport\"]/div').click()\n",
    "\n",
    "\n",
    "\n"
   ]
  },
  {
   "cell_type": "code",
   "execution_count": 69,
   "metadata": {},
   "outputs": [],
   "source": [
    "from selenium import webdriver\n",
    "from selenium.webdriver.support.ui import Select\n",
    "import time\n",
    "web = webdriver.Chrome()\n",
    "web.get('https://suit.cibil.com/')\n",
    "#time.sleep(2)\n",
    "\n",
    "\n",
    "\n",
    "\n",
    "\n",
    "# navigate to the page(credit 1st)\n",
    "select = Select(web.find_element_by_xpath('//*[@id=\"quarterIdGrantors\"]'))\n",
    "select.select_by_visible_text('31-03-20')\n",
    "web.find_element_by_xpath('//*[@id=\"loadSuitFiledDataSearchAction\"]/div[1]/div[2]/div[3]/img').click()\n",
    "\n",
    "#download\n",
    "web.find_element_by_xpath('//*[@id=\"downloadReport\"]/div').click()\n",
    "\n",
    "\n"
   ]
  },
  {
   "cell_type": "code",
   "execution_count": null,
   "metadata": {},
   "outputs": [],
   "source": []
  }
 ],
 "metadata": {
  "kernelspec": {
   "display_name": "Python 3",
   "language": "python",
   "name": "python3"
  },
  "language_info": {
   "codemirror_mode": {
    "name": "ipython",
    "version": 3
   },
   "file_extension": ".py",
   "mimetype": "text/x-python",
   "name": "python",
   "nbconvert_exporter": "python",
   "pygments_lexer": "ipython3",
   "version": "3.7.6"
  }
 },
 "nbformat": 4,
 "nbformat_minor": 4
}
