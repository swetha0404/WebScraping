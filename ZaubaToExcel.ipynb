{
 "cells": [
  {
   "cell_type": "code",
   "execution_count": 17,
   "metadata": {},
   "outputs": [],
   "source": [
    "import requests as req\n",
    "from bs4 import BeautifulSoup\n",
    "\n",
    "\n"
   ]
  },
  {
   "cell_type": "code",
   "execution_count": null,
   "metadata": {},
   "outputs": [],
   "source": [
    "s=input(\"Enter company name:\")\n",
    "company=s.replace(\" \",\"-\")\n",
    "company=company.lower()\n",
    "print(company)\n",
    "url=\"https://www.zaubacorp.com/companysearchresults/\"+company\n",
    "attr={\"class\":\"container basic-cont\"}\n",
    "r=req.get(url)\n",
    "soup=BeautifulSoup(r.content)\n",
    "\n",
    "\n",
    "l=soup.find_all(\"div\",attr)\n",
    "child=list(l[0].children)\n",
    "text=str(child[2])\n",
    "if text[4:len(text)-4].startswith(\"We are unable to find\"):\n",
    "    print(\"Company not available in Zauba\")\n",
    "else:\n",
    "    print(\"Company found\")\n",
    "    l=soup.find_all(\"h5\")\n",
    "    id=str(l[0])[4:len(l)-8]\n",
    "    name=str(l[1])[4:len(l)-8]\n",
    "    url=\"https://www.zaubacorp.com/company/\"+company.upper()+\"/\"+id\n",
    "    print(url)"
   ]
  },
  {
   "cell_type": "code",
   "execution_count": null,
   "metadata": {},
   "outputs": [],
   "source": []
  }
 ],
 "metadata": {
  "kernelspec": {
   "display_name": "Python 3",
   "language": "python",
   "name": "python3"
  },
  "language_info": {
   "codemirror_mode": {
    "name": "ipython",
    "version": 3
   },
   "file_extension": ".py",
   "mimetype": "text/x-python",
   "name": "python",
   "nbconvert_exporter": "python",
   "pygments_lexer": "ipython3",
   "version": "3.7.6"
  }
 },
 "nbformat": 4,
 "nbformat_minor": 4
}
